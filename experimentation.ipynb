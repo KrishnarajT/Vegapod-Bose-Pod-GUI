{
 "cells": [
  {
   "cell_type": "code",
   "execution_count": null,
   "metadata": {},
   "outputs": [],
   "source": []
  }
 ],
 "metadata": {
  "interpreter": {
   "hash": "ca58f56f4797dd41bfb4f0bfd9d1a967c677a6e57373eaf187ec90c4cab5783d"
  },
  "kernelspec": {
   "display_name": "Python 3.10.2 ('ExpVenv_Arch')",
   "language": "python",
   "name": "python3"
  },
  "language_info": {
   "name": "python",
   "version": "3.10.4"
  },
  "orig_nbformat": 4
 },
 "nbformat": 4,
 "nbformat_minor": 2
}
